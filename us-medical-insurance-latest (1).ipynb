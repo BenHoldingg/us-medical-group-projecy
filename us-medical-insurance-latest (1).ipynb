{
 "cells": [
  {
   "cell_type": "code",
   "execution_count": null,
   "id": "4515af5e",
   "metadata": {
    "tags": []
   },
   "outputs": [],
   "source": [
    "Step 1: Importing the data from the insurance csv"
   ]
  },
  {
   "cell_type": "code",
   "execution_count": 20,
   "id": "044e863e-b8a2-4636-912e-104bbd7d10dd",
   "metadata": {
    "tags": []
   },
   "outputs": [],
   "source": [
    "import csv \n"
   ]
  },
  {
   "cell_type": "code",
   "execution_count": null,
   "id": "6af1862e",
   "metadata": {
    "tags": []
   },
   "outputs": [],
   "source": [
    "Step 2: define variables for all the data we are testing"
   ]
  },
  {
   "cell_type": "code",
   "execution_count": null,
   "id": "8c10feb8-e0ec-456a-a7f1-a92d536a7736",
   "metadata": {},
   "outputs": [],
   "source": [
    "age = []\n",
    "sex = []\n",
    "bmi = []\n",
    "num_of_children = []\n",
    "smoker = []\n",
    "region = []\n",
    "charges = []"
   ]
  },
  {
   "cell_type": "code",
   "execution_count": null,
   "id": "e06a4e9b",
   "metadata": {},
   "outputs": [],
   "source": [
    "Step 3: Import the data set using a function, dict reader, and "
   ]
  },
  {
   "cell_type": "code",
   "execution_count": 18,
   "id": "e6ca5090-17d1-4143-9bd8-6302931a6120",
   "metadata": {},
   "outputs": [],
   "source": [
    "with open(\"insurance.csv\", \"r\") as insurance_csv:\n",
    "   insurance_file = csv.DictReader(insurance_csv)\n"
   ]
  },
  {
   "cell_type": "code",
   "execution_count": null,
   "id": "c82127c3",
   "metadata": {},
   "outputs": [],
   "source": [
    "Step 4: Save the keys of the dataset to the corresponding variables using the function from before"
   ]
  },
  {
   "cell_type": "code",
   "execution_count": 19,
   "id": "31b5abb7-2bf9-45a4-9b8d-689a9fa7ea47",
   "metadata": {},
   "outputs": [],
   "source": [
    "class insurance_data:\n",
    "    \n",
    "    def __innit__ (self,age,sex,bmi,num_of_children,smoker,region,charges):\n",
    "        self.age = age\n",
    "        self.sex = sex\n",
    "        self.bmi = bmi\n",
    "        self.num_of_children = num_of_children\n",
    "        self.smoker = smoker\n",
    "        self.region = region\n",
    "        self.charges = charges\n",
    "    "
   ]
  },
  {
   "cell_type": "code",
   "execution_count": null,
   "id": "8e89a4b8",
   "metadata": {},
   "outputs": [],
   "source": [
    "Step 5: Build out a classes for functions that will  \n",
    "\n",
    "1.)find average age of the patients\n",
    "2.)return the number of males vs. females counted in the dataset\n",
    "3.)find geographical location of the patients\n",
    "4.)return the average yearly medical charges of the patients\n",
    "5.)creating a dictionary that contains all patient information"
   ]
  },
  {
   "cell_type": "code",
   "execution_count": null,
   "id": "b9ec7c14-a0be-46b8-8b17-22814e7f007c",
   "metadata": {},
   "outputs": [],
   "source": []
  },
  {
   "cell_type": "code",
   "execution_count": null,
   "id": "4b954393",
   "metadata": {},
   "outputs": [],
   "source": [
    "Step 6: Define a deictionary that assigns each person with their correct data neatly"
   ]
  },
  {
   "cell_type": "code",
   "execution_count": null,
   "id": "d9901dfe-6c01-40cf-ba0b-5e44738027bf",
   "metadata": {},
   "outputs": [],
   "source": []
  },
  {
   "cell_type": "code",
   "execution_count": null,
   "id": "c6e1a662",
   "metadata": {},
   "outputs": [],
   "source": [
    "Step 7: Build out a function that returns which ages have the highest and lowest insurance cost"
   ]
  }
 ],
 "metadata": {
  "kernelspec": {
   "display_name": "Python 3 (ipykernel)",
   "language": "python",
   "name": "python3"
  },
  "language_info": {
   "codemirror_mode": {
    "name": "ipython",
    "version": 3
   },
   "file_extension": ".py",
   "mimetype": "text/x-python",
   "name": "python",
   "nbconvert_exporter": "python",
   "pygments_lexer": "ipython3",
   "version": "3.9.7"
  }
 },
 "nbformat": 4,
 "nbformat_minor": 5
}
