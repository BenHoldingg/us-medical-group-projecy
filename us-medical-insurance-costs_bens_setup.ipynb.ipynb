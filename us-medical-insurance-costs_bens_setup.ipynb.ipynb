{
 "cells": [
  {
   "cell_type": "raw",
   "id": "34ca8d3a-4c3d-44f8-a1c1-eaed2b1b4d79",
   "metadata": {
    "tags": []
   },
   "source": [
    "Step 1: Importing the data from the insurance csv"
   ]
  },
  {
   "cell_type": "code",
   "execution_count": 6,
   "id": "044e863e-b8a2-4636-912e-104bbd7d10dd",
   "metadata": {
    "tags": []
   },
   "outputs": [],
   "source": [
    "import csv "
   ]
  },
  {
   "cell_type": "raw",
   "id": "74e2713b-6fcc-4bfb-9a0e-11c454f0e396",
   "metadata": {
    "tags": []
   },
   "source": [
    "Step 2: define variables for all the data we are testing"
   ]
  },
  {
   "cell_type": "code",
   "execution_count": null,
   "id": "8c10feb8-e0ec-456a-a7f1-a92d536a7736",
   "metadata": {},
   "outputs": [],
   "source": [
    "age = []\n",
    "sex = []\n",
    "bmi = []\n",
    "num_of_children = []\n",
    "smoker = []\n",
    "region = []\n",
    "charges = []"
   ]
  },
  {
   "cell_type": "raw",
   "id": "d1128f96-7a95-48bb-8ed8-f285eea30124",
   "metadata": {},
   "source": [
    "Step 3: Import the data set using a function, dict reader, and "
   ]
  },
  {
   "cell_type": "code",
   "execution_count": null,
   "id": "e6ca5090-17d1-4143-9bd8-6302931a6120",
   "metadata": {},
   "outputs": [],
   "source": []
  },
  {
   "cell_type": "raw",
   "id": "8265ef79-9642-4935-81ff-c4fb6a9b0da6",
   "metadata": {},
   "source": [
    "Step 4: Save the keys of the dataset to the corresponding variables using the function from before"
   ]
  },
  {
   "cell_type": "code",
   "execution_count": null,
   "id": "31b5abb7-2bf9-45a4-9b8d-689a9fa7ea47",
   "metadata": {},
   "outputs": [],
   "source": []
  },
  {
   "cell_type": "raw",
   "id": "fb3529a3-a29f-4fbd-adb3-1a9d14e982e5",
   "metadata": {},
   "source": [
    "Step 5: Build out a classes for functions that will  \n",
    "\n",
    "1.)find average age of the patients\n",
    "2.)return the number of males vs. females counted in the dataset\n",
    "3.)find geographical location of the patients\n",
    "4.)return the average yearly medical charges of the patients\n",
    "5.)creating a dictionary that contains all patient information"
   ]
  },
  {
   "cell_type": "code",
   "execution_count": null,
   "id": "b9ec7c14-a0be-46b8-8b17-22814e7f007c",
   "metadata": {},
   "outputs": [],
   "source": []
  },
  {
   "cell_type": "raw",
   "id": "4b1eefda-9ea9-4fec-9f03-a4fa9dce4722",
   "metadata": {},
   "source": [
    "Step 6: Define a deictionary that assigns each person with their correct data neatly"
   ]
  },
  {
   "cell_type": "code",
   "execution_count": null,
   "id": "d9901dfe-6c01-40cf-ba0b-5e44738027bf",
   "metadata": {},
   "outputs": [],
   "source": []
  },
  {
   "cell_type": "raw",
   "id": "a2a36103-3dd3-4283-a7e5-950be430843a",
   "metadata": {},
   "source": [
    "Step 7: Build out a function that returns which ages have the highest and lowest insurance cost"
   ]
  }
 ],
 "metadata": {
  "kernelspec": {
   "display_name": "Python 3 (ipykernel)",
   "language": "python",
   "name": "python3"
  },
  "language_info": {
   "codemirror_mode": {
    "name": "ipython",
    "version": 3
   },
   "file_extension": ".py",
   "mimetype": "text/x-python",
   "name": "python",
   "nbconvert_exporter": "python",
   "pygments_lexer": "ipython3",
   "version": "3.9.7"
  }
 },
 "nbformat": 4,
 "nbformat_minor": 5
}
